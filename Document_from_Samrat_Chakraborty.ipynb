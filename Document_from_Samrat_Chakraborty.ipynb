{
  "cells": [
    {
      "cell_type": "markdown",
      "metadata": {
        "id": "view-in-github",
        "colab_type": "text"
      },
      "source": [
        "<a href=\"https://colab.research.google.com/github/SamratChakraborty99/Python/blob/main/Document_from_Samrat_Chakraborty.ipynb\" target=\"_parent\"><img src=\"https://colab.research.google.com/assets/colab-badge.svg\" alt=\"Open In Colab\"/></a>"
      ]
    },
    {
      "cell_type": "code",
      "execution_count": null,
      "id": "7e4dddf7",
      "metadata": {
        "id": "7e4dddf7"
      },
      "outputs": [],
      "source": [
        "!pip install google-genai pillow PyMuPDF"
      ]
    },
    {
      "cell_type": "code",
      "execution_count": null,
      "id": "de8678ee",
      "metadata": {
        "id": "de8678ee"
      },
      "outputs": [],
      "source": [
        "GEMINI_API_KEY = 'your api key here'\n",
        "BASE_SYSTEM_PROMPT = \"\"\"You are a Translatr with knowledge in translating text from one language to another.Your task is to translate the provided text from the source language to englih while maintaining the original meaning and context. Ensure that the translation is accurate, fluent, and culturally appropriate.\"\"\"\n",
        "import openai\n",
        "import os\n",
        "import json"
      ]
    },
    {
      "cell_type": "code",
      "execution_count": null,
      "id": "c464816f",
      "metadata": {
        "id": "c464816f"
      },
      "outputs": [],
      "source": [
        "import fitz  # PyMuPDF\n",
        "from PIL import Image\n",
        "import io\n",
        "from typing import List\n",
        "from IPython.display import display\n",
        "\n",
        "def pdf_binary_to_images(pdf_binary_data: bytes) -> List[Image.Image]:\n",
        "    try:\n",
        "        doc = fitz.open(stream=pdf_binary_data, filetype=\"pdf\")\n",
        "        images = []\n",
        "        for page_num in range(len(doc)):\n",
        "            # Load the page\n",
        "            page = doc.load_page(page_num)\n",
        "            pix = page.get_pixmap()\n",
        "            img_data = pix.tobytes(\"png\")\n",
        "            img = Image.open(io.BytesIO(img_data))\n",
        "            images.append(img)\n",
        "        doc.close()\n",
        "        return images\n",
        "\n",
        "    except Exception as e:\n",
        "        raise Exception(f\"Error processing PDF: {str(e)}\")\n",
        "\n",
        "image_list = pdf_binary_to_images(open(\"3bfbcb39-20df-41d4-b129-850889f85635.pdf\", \"rb\").read())"
      ]
    },
    {
      "cell_type": "code",
      "execution_count": null,
      "id": "bb78691f",
      "metadata": {
        "id": "bb78691f",
        "outputId": "d24ff1c6-dd84-49e2-fe5e-b255a0e54a51"
      },
      "outputs": [
        {
          "name": "stdout",
          "output_type": "stream",
          "text": [
            "You are a Translatr with knowledge in translating text from one language to another.Your task is to translate the provided text from the source language to englih while maintaining the original meaning and context. Ensure that the translation is accurate, fluent, and culturally appropriate.\n",
            "\n",
            "Please format your response as valid JSON.\n",
            "Translate the text in the attached image into English. exactly as it is line by line. in this json format [{\"question_no\": int, \"question\": str, \"options\": list[str], \"answer\": str}, ...]\n",
            "JSON Result: [{'question_no': 1, 'question': 'What is the characteristic of acoelomata?', 'options': ['Absence of mesoderm', 'Presence of mesoderm', 'Coelom which is incompletely surrounded by mesoderm', 'Solid body without coelom around internal organs'], 'answer': 'Absence of mesoderm'}, {'question_no': 2, 'question': 'Salamander belongs to which class?', 'options': ['Pisces', 'Birds', 'Reptiles', 'Amphibian'], 'answer': 'Amphibian'}, {'question_no': 3, 'question': 'Flame cells are excretory structures for which of the following?', 'options': ['Annelida', 'Coelenterata', 'Platyhelminthes', 'Echinodermata'], 'answer': 'Platyhelminthes'}, {'question_no': 4, 'question': 'Phylum Porifera has been classified based on this:', 'options': ['In branches', 'Symmetry', 'Skeleton', 'Reproduction'], 'answer': 'Skeleton'}, {'question_no': 5, 'question': 'Spongocoel canal system develops due to whom?', 'options': ['Choanocytes', 'Gastrovascular system', 'Reproduction', 'Folding of the inner walls'], 'answer': 'Choanocytes'}]\n"
          ]
        }
      ],
      "source": [
        "# To run this code you need to install the following dependencies:\n",
        "# pip install google-genai pillow\n",
        "\n",
        "import base64\n",
        "import os\n",
        "import json\n",
        "from typing import Union, Optional\n",
        "from PIL import Image\n",
        "import io\n",
        "from google import genai\n",
        "from google.genai import types\n",
        "\n",
        "\n",
        "def analyze_document_with_gemini(\n",
        "    question: str,\n",
        "    system_prompt: str,\n",
        "    document: Union[str, Image.Image, bytes],\n",
        "    return_json: bool = False,\n",
        "    model: str = \"gemini-2.0-flash-exp\",\n",
        "    max_tokens: Optional[int] = None,\n",
        "    api_key: Optional[str] = None\n",
        ") -> Union[str, dict]:\n",
        "    \"\"\"\n",
        "    Analyze documents (images, PDFs, etc.) using Google Gemini AI.\n",
        "\n",
        "    Args:\n",
        "        question: The question or prompt to ask about the document\n",
        "        system_prompt: System instructions for the AI\n",
        "        document: Document input - can be file path (str), PIL Image, or raw bytes\n",
        "        return_json: Whether to return response as JSON\n",
        "        model: Gemini model to use\n",
        "        max_tokens: Maximum tokens in response (optional)\n",
        "        api_key: Gemini API key (optional, will use GEMINI_API_KEY env var if not provided)\n",
        "\n",
        "    Returns:\n",
        "        String response or JSON dict depending on return_json parameter\n",
        "    \"\"\"\n",
        "\n",
        "    def encode_document(doc_data):\n",
        "        \"\"\"Encode document data to base64 and determine MIME type.\"\"\"\n",
        "        mime_type = \"application/octet-stream\"  # Default\n",
        "\n",
        "        if isinstance(doc_data, str):\n",
        "            # Assume it's a file path\n",
        "            with open(doc_data, \"rb\") as file:\n",
        "                data = file.read()\n",
        "\n",
        "            # Determine MIME type based on file extension\n",
        "            if doc_data.lower().endswith('.pdf'):\n",
        "                mime_type = \"application/pdf\"\n",
        "            elif doc_data.lower().endswith(('.png', '.jpg', '.jpeg', '.gif', '.bmp', '.webp')):\n",
        "                mime_type = f\"image/{doc_data.split('.')[-1].lower()}\"\n",
        "                if mime_type == \"image/jpg\":\n",
        "                    mime_type = \"image/jpeg\"\n",
        "\n",
        "            return base64.b64encode(data).decode('utf-8'), mime_type\n",
        "\n",
        "        elif isinstance(doc_data, Image.Image):\n",
        "            # PIL Image object\n",
        "            buffer = io.BytesIO()\n",
        "            doc_data.save(buffer, format='PNG')\n",
        "            data = buffer.getvalue()\n",
        "            return base64.b64encode(data).decode('utf-8'), \"image/png\"\n",
        "\n",
        "        elif isinstance(doc_data, bytes):\n",
        "            # Raw bytes - assume PDF for now, but could be enhanced\n",
        "            return base64.b64encode(doc_data).decode('utf-8'), \"application/pdf\"\n",
        "\n",
        "        else:\n",
        "            raise ValueError(\"Unsupported document format. Use file path, PIL Image, or bytes.\")\n",
        "\n",
        "    try:\n",
        "        # Get API key\n",
        "        if api_key is None:\n",
        "            api_key = GEMINI_API_KEY\n",
        "\n",
        "        if not api_key:\n",
        "            raise ValueError(\"API key not provided. Set GEMINI_API_KEY environment variable or pass api_key parameter.\")\n",
        "\n",
        "        # Initialize client\n",
        "        client = genai.Client(api_key=api_key)\n",
        "\n",
        "        # Encode the document\n",
        "        base64_document, mime_type = encode_document(document)\n",
        "\n",
        "        # Prepare system instruction\n",
        "        system_instruction = system_prompt\n",
        "        if return_json:\n",
        "            system_instruction += \"\\n\\nPlease format your response as valid JSON.\"\n",
        "\n",
        "        # Prepare content\n",
        "        contents = [\n",
        "            types.Content(\n",
        "                role=\"user\",\n",
        "                parts=[\n",
        "                    types.Part.from_bytes(\n",
        "                        mime_type=mime_type,\n",
        "                        data=base64.b64decode(base64_document),\n",
        "                    ),\n",
        "                    types.Part.from_text(text=question),\n",
        "                ],\n",
        "            ),\n",
        "        ]\n",
        "\n",
        "        # Configure generation\n",
        "        generate_content_config = types.GenerateContentConfig(\n",
        "            max_output_tokens=64000,\n",
        "            response_mime_type=\"application/json\" if return_json else \"text/plain\",\n",
        "            system_instruction=[\n",
        "                types.Part.from_text(text=system_instruction),\n",
        "            ],\n",
        "        )\n",
        "\n",
        "        # Add max_tokens if specified\n",
        "        if max_tokens:\n",
        "            generate_content_config.max_output_tokens = max_tokens\n",
        "\n",
        "        # Generate response\n",
        "        response = client.models.generate_content(\n",
        "            model=model,\n",
        "            contents=contents,\n",
        "            config=generate_content_config,\n",
        "        )\n",
        "        print(system_instruction)\n",
        "        print(question)\n",
        "\n",
        "        # Extract the response content\n",
        "        answer = response.text\n",
        "\n",
        "        # Return as JSON if requested\n",
        "        if return_json:\n",
        "            try:\n",
        "                return json.loads(answer)\n",
        "            except json.JSONDecodeError as e:\n",
        "                # If response isn't valid JSON, wrap it in a JSON structure\n",
        "                return {\"answer\": answer, \"error\": \"Response was not valid JSON: \" + str(e)}\n",
        "\n",
        "        return answer\n",
        "\n",
        "    except Exception as e:\n",
        "        error_msg = f\"Error analyzing document: {str(e)}\"\n",
        "        if return_json:\n",
        "            return {\"error\": error_msg}\n",
        "        return error_msg\n",
        "\n",
        "\n",
        "# Example usage\n",
        "if __name__ == \"__main__\":\n",
        "    # Example 1: Analyze a PDF file\n",
        "    try:\n",
        "        result = analyze_document_with_gemini(\n",
        "            question='Translate the text in the attached image into English. exactly as it is line by line. in this json format [{\"question_no\": int, \"question\": str, \"options\": list[str], \"answer\": str}, ...]',\n",
        "            system_prompt=BASE_SYSTEM_PROMPT,\n",
        "            document=image_list[0],  # Use the first image from the PDF\n",
        "            return_json=True\n",
        "        )\n",
        "        print(\"JSON Result:\", result)\n",
        "    except Exception as e:\n",
        "        print(f\"Error: {e}\")"
      ]
    },
    {
      "cell_type": "code",
      "execution_count": null,
      "id": "a4f07790",
      "metadata": {
        "id": "a4f07790",
        "outputId": "04e5101d-0ca9-4cdc-bc6f-727616ae88fe"
      },
      "outputs": [
        {
          "data": {
            "text/plain": [
              "[{'question_no': 1,\n",
              "  'question': 'What is the characteristic of acoelomata?',\n",
              "  'options': ['Absence of mesoderm',\n",
              "   'Presence of mesoderm',\n",
              "   'Coelom which is incompletely surrounded by mesoderm',\n",
              "   'Solid body without coelom around internal organs'],\n",
              "  'answer': 'Absence of mesoderm'},\n",
              " {'question_no': 2,\n",
              "  'question': 'Salamander belongs to which class?',\n",
              "  'options': ['Pisces', 'Birds', 'Reptiles', 'Amphibian'],\n",
              "  'answer': 'Amphibian'},\n",
              " {'question_no': 3,\n",
              "  'question': 'Flame cells are excretory structures for which of the following?',\n",
              "  'options': ['Annelida', 'Coelenterata', 'Platyhelminthes', 'Echinodermata'],\n",
              "  'answer': 'Platyhelminthes'},\n",
              " {'question_no': 4,\n",
              "  'question': 'Phylum Porifera has been classified based on this:',\n",
              "  'options': ['In branches', 'Symmetry', 'Skeleton', 'Reproduction'],\n",
              "  'answer': 'Skeleton'},\n",
              " {'question_no': 5,\n",
              "  'question': 'Spongocoel canal system develops due to whom?',\n",
              "  'options': ['Choanocytes',\n",
              "   'Gastrovascular system',\n",
              "   'Reproduction',\n",
              "   'Folding of the inner walls'],\n",
              "  'answer': 'Choanocytes'}]"
            ]
          },
          "execution_count": 56,
          "metadata": {},
          "output_type": "execute_result"
        }
      ],
      "source": [
        "# print(result['answer'])\n",
        "result"
      ]
    },
    {
      "cell_type": "code",
      "execution_count": null,
      "id": "2eacb841",
      "metadata": {
        "id": "2eacb841"
      },
      "outputs": [],
      "source": []
    }
  ],
  "metadata": {
    "kernelspec": {
      "display_name": "venv",
      "language": "python",
      "name": "python3"
    },
    "language_info": {
      "codemirror_mode": {
        "name": "ipython",
        "version": 3
      },
      "file_extension": ".py",
      "mimetype": "text/x-python",
      "name": "python",
      "nbconvert_exporter": "python",
      "pygments_lexer": "ipython3",
      "version": "3.11.9"
    },
    "colab": {
      "provenance": [],
      "include_colab_link": true
    }
  },
  "nbformat": 4,
  "nbformat_minor": 5
}