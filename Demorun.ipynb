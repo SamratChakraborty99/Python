{
  "nbformat": 4,
  "nbformat_minor": 0,
  "metadata": {
    "colab": {
      "provenance": [],
      "authorship_tag": "ABX9TyPCgymMq0UCq8GlB1orH4p3",
      "include_colab_link": true
    },
    "kernelspec": {
      "name": "python3",
      "display_name": "Python 3"
    },
    "language_info": {
      "name": "python"
    }
  },
  "cells": [
    {
      "cell_type": "markdown",
      "metadata": {
        "id": "view-in-github",
        "colab_type": "text"
      },
      "source": [
        "<a href=\"https://colab.research.google.com/github/SamratChakraborty99/Python/blob/main/Demorun.ipynb\" target=\"_parent\"><img src=\"https://colab.research.google.com/assets/colab-badge.svg\" alt=\"Open In Colab\"/></a>"
      ]
    },
    {
      "cell_type": "code",
      "execution_count": 6,
      "metadata": {
        "id": "WJz3mQkI3plI"
      },
      "outputs": [],
      "source": [
        "import requests\n",
        "from bs4 import BeautifulSoup\n",
        "from concurrent.futures import ThreadPoolExecutor\n",
        "import yfinance as yf\n",
        "import pandas as pd\n",
        "from datetime import datetime, timedelta\n",
        "from urllib.parse import quote\n",
        "\n",
        "#------------------------------------------------------------------------------------------------------#\n",
        "                            # This part is used to fetch the cnsx symbol #\n",
        "\n",
        "def Fetch_Company_Name(eq):\n",
        "  url='https://www.google.com/search?q=site:Bloomberg.com '+eq.split()[0]+':IN'\n",
        "  res=requests.get(url)\n",
        "  name=None\n",
        "  if res.status_code==200:\n",
        "    soup=BeautifulSoup(res.content, 'html.parser')\n",
        "    links=[m.text for m in soup.find_all('a')]\n",
        "    for j in links:\n",
        "      if j.endswith(f'{eq.split()[0]}:IN') and 'Ltd' in j:\n",
        "        name=j.split('Ltd')[0]+\"Ltd\"\n",
        "      if not name and j.endswith(f'{eq.split()[0]}:IN') and 'Stock Price Quote' in j:\n",
        "        name=j.split(' Stock Price Quote')[0]\n",
        "      if name and  ': ' in name:\n",
        "        name=name.split(': ')[1]\n",
        "  return name\n",
        "\n",
        "def Fetch_original_name(name):\n",
        "  url='https://www.google.com/search?q=site%3Awww.google.com%2Ffinance+'+f\"{quote(name)}\"\n",
        "  res=requests.get(url)\n",
        "  if res.status_code==200:\n",
        "    soup=BeautifulSoup(res.content, 'html.parser')\n",
        "    links=[m.text for m in soup.find_all('div', {'class':'BNeawe UPmit AP7Wnd lRVwie'})]\n",
        "    for i in links:\n",
        "      if i.endswith(':NSE'):\n",
        "        return(i.split()[-1].split(':')[0])\n",
        "\n",
        "def Fetch_CNSX(eq):\n",
        "  name=Fetch_Company_Name(eq)\n",
        "  url=f'http://www.google.com/finance?&q={name}'\n",
        "  headers={'User-Agent': 'Mozilla/5.0'}\n",
        "  resp=requests.get(url,headers=headers)\n",
        "  title=BeautifulSoup(resp.content, 'html.parser')\n",
        "  try:\n",
        "    title=title.find('div',{'class':'PdOqHc'}).contents[-1].split(' • NSE')[0]\n",
        "  except:\n",
        "    title=Fetch_original_name(name)\n",
        "  return title+'.NS'\n",
        "\n",
        "def Fetch_CNSX_List(x):\n",
        "  found=[]\n",
        "  c=0\n",
        "  try:\n",
        "    for i in x:\n",
        "      v=Fetch_CNSX(i)\n",
        "      c+=1\n",
        "      found.append((i,v))\n",
        "      print(f\"{i} ---> {v}\")\n",
        "    print(\"List of Symbols\")\n",
        "    print(found)\n",
        "  except:\n",
        "    print(\"Here is the list till which the names are found\")\n",
        "    print(found)\n",
        "    print(\"here is the Remaining list\")\n",
        "    print(x[c:])\n",
        "    print(\"PLEASE DISCONNECT AND RE-CONNECT THE COLLAB NOTEBOOK AND PROCESS THE REST.\")\n",
        "\n",
        "#--------------------------------------------------------------------------------------------------------------------#\n",
        "                                  # Thsi part is used to download the data #\n",
        "\n",
        "def get_date(d):\n",
        "    date_object=datetime.strptime(d, '%Y-%m-%d')\n",
        "    while date_object.strftime('%A')=='Saturday' or date_object.strftime('%A')=='Sunday':\n",
        "        date_object-=timedelta(days=1)\n",
        "    return date_object.strftime('%Y-%m-%d')\n",
        "\n",
        "def stocks_for_each_year(stock_name,f,t):\n",
        "    data_list=[]\n",
        "    for i in range(f,t+1):\n",
        "        date=f'{i}-12-31'\n",
        "        date=get_date(date)\n",
        "        date_object = datetime.strptime(date, '%Y-%m-%d')+ timedelta(days=1)\n",
        "        new_date= date_object.strftime('%Y-%m-%d')\n",
        "        tickerData = yf.Ticker(stock_name)\n",
        "        data = tickerData.history(start=date, end=new_date)\n",
        "        data=pd.DataFrame(data)\n",
        "        data_list.append(data)\n",
        "    data_list=pd.concat(data_list)\n",
        "    return data_list\n",
        "\n",
        "def stocks_freq(stock_name,f,t,freq):\n",
        "    data_list=[]\n",
        "    for i in range(f,t+1):\n",
        "        start_date=f'{i}-01-01'\n",
        "        end_date=f'{i}-12-31'\n",
        "        tickerData = yf.Ticker(stock_name)\n",
        "        data = tickerData.history(start=start_date, end=end_date, interval=freq)\n",
        "        data=pd.DataFrame(data)\n",
        "        data_list.append(data)\n",
        "    data_list=pd.concat(data_list)\n",
        "    return data_list\n",
        "\n",
        "def process_stock(stock,name, f, t, freq):\n",
        "    if freq=='1Y':\n",
        "        x = stocks_for_each_year(stock, f,t)\n",
        "    else:\n",
        "        x=stocks_freq(stock,f,t,freq)\n",
        "    x.columns = pd.MultiIndex.from_product([[name], x.columns])\n",
        "    print(name)\n",
        "    return x\n",
        "\n",
        "def display_dataframe(names_and_symbols, f, t, freq):\n",
        "    names=[]\n",
        "    symbols=[]\n",
        "    freq_list, f, t=[freq for i in range (len(names_and_symbols))],[f for i in range (len(names_and_symbols))],[t for i in range (len(names_and_symbols))]\n",
        "    for i in names_and_symbols:\n",
        "      names.append(i[0])\n",
        "      symbols.append(i[1])\n",
        "    print(\"Processed:\")\n",
        "    with ThreadPoolExecutor(max_workers=10) as executor:\n",
        "        results = list(executor.map(process_stock, symbols, names, f, t, freq_list))\n",
        "    final_dataframe = pd.concat(results, axis=1, join='outer')\n",
        "    final_dataframe.index = final_dataframe.index.tz_convert(None)\n",
        "    final_dataframe.to_excel('All_IB_Equity.xlsx')\n",
        "    print(\"A excel file named 'All_IB_Equity.xlsx'has been saved to local pc in the same directory.\")\n",
        "    return final_dataframe\n"
      ]
    },
    {
      "cell_type": "code",
      "source": [
        "names = ['UPLL IB Equity', 'UTCEM IB Equity', 'VEDL IB Equity', 'VOLT IB Equity', 'WPRO IB Equity', 'Z IB Equity']\n",
        "\n",
        "Fetch_CNSX_List(names)"
      ],
      "metadata": {
        "colab": {
          "base_uri": "https://localhost:8080/"
        },
        "id": "7qitRcmF3502",
        "outputId": "7d83181a-1417-40ea-8aca-d2390d3dff32"
      },
      "execution_count": 3,
      "outputs": [
        {
          "output_type": "stream",
          "name": "stdout",
          "text": [
            "UPLL IB Equity ---> UPL.NS\n",
            "UTCEM IB Equity ---> ULTRACEMCO.NS\n",
            "VEDL IB Equity ---> VEDL.NS\n",
            "VOLT IB Equity ---> VOLTAS.NS\n",
            "WPRO IB Equity ---> WIPRO.NS\n",
            "Z IB Equity ---> ZEEL.NS\n",
            "List of Symbols\n",
            "[('UPLL IB Equity', 'UPL.NS'), ('UTCEM IB Equity', 'ULTRACEMCO.NS'), ('VEDL IB Equity', 'VEDL.NS'), ('VOLT IB Equity', 'VOLTAS.NS'), ('WPRO IB Equity', 'WIPRO.NS'), ('Z IB Equity', 'ZEEL.NS')]\n"
          ]
        }
      ]
    },
    {
      "cell_type": "code",
      "source": [
        "names_and_symbols=[('ACC IB Equity', 'ACC.NS'), ('ACEM IB Equity', 'AMBUJACEM.NS'), ('ADANI IB Equity', 'ADANIPOWER.NS'), ('ADSEZ IB Equity', 'ADANIPORTS.NS'), ('AL IB Equity', 'ASHOKLEY.NS'), ('APHS IB Equity', 'APOLLOHOSP.NS'), ('APNT IB Equity', 'ASIANPAINT.NS'), ('ARBP IB Equity', 'AUROPHARMA.NS'), ('AUBANK IB Equity', 'AUBANK.NS'), ('AXSB IB Equity', 'AXISBANK.NS'), ('BAF IB Equity', 'BAJFINANCE.NS'), ('BANDHAN IB Equity', 'BANDHANBNK.NS'), ('BHARTI IB Equity', 'BHARTIARTL.NS'), ('BHE IB Equity', 'BEL.NS'), ('BHFC IB Equity', 'BHARATFORG.NS'), ('BJAUT IB Equity', 'BAJAJ-AUTO.NS'), ('BJFIN IB Equity', 'BAJAJFINSV.NS'), ('BOB IB Equity', 'BANKBARODA.NS'), ('BPCL IB Equity', 'BPCL.NS'), ('BRIT IB Equity', 'BRITANNIA.NS'), ('CIPLA IB Equity', 'CIPLA.NS'), ('CLGT IB Equity', 'COLPAL.NS'), ('COAL IB Equity', 'COALINDIA.NS'), ('DABUR IB Equity', 'DABUR.NS'), ('DIVI IB Equity', 'DIVISLAB.NS'), ('DLFU IB Equity', 'DLF.NS'), ('DMART IB Equity', 'DMART.NS'), ('DRRD IB Equity', 'DRREDDY.NS'), ('EIM IB Equity', 'EICHERMOT.NS'), ('FB IB Equity', 'FEDERALBNK.NS'), ('GAIL IB Equity', 'GAIL.NS'), ('GCPL IB Equity', 'GODREJCP.NS'), ('GPL IB Equity', 'GODREJPROP.NS'), ('GRASIM IB Equity', 'GRASIM.NS'), ('HAVL IB Equity', 'HAVELLS.NS'), ('HCLT IB Equity', 'HCLTECH.NS'), ('HDFCB IB Equity', 'HDFCBANK.NS'), ('HMCL IB Equity', 'HEROMOTOCO.NS'), ('HNDL IB Equity', 'HINDALCO.NS'), ('HUVR IB Equity', 'HINDUNILVR.NS'), ('ICICIBC IB Equity', 'ICICIBANK.NS'), ('ICICIGI IB Equity', 'ICICIGI.NS'), ('IIB IB Equity', 'INDUSINDBK.NS'), ('INDIGO IB Equity', 'INDIGO.NS'), ('INDUSTOW IB Equity', 'INDUSTOWER.NS'), ('INFO IB Equity', 'INFY.NS'), ('INFOE IB Equity', 'NAUKRI.NS'), ('IOCL IB Equity', 'IOC.NS'), ('IPRU IB Equity', 'ICICIPRULI.NS'), ('IRCTC IB Equity', 'IRCTC.NS'), ('ITC IB Equity', 'ITC.NS'), ('JSTL IB Equity', 'JSWSTEEL.NS'), ('JUBI IB Equity', 'JUBLFOOD.NS'), ('KMB IB Equity', 'KOTAKBANK.NS'), ('LPC IB Equity', 'LUPIN.NS'), ('LT IB Equity', 'LT.NS'), ('LTIM IB Equity', 'LTIM.NS'), ('MAXF IB Equity', 'MFSL.NS'), ('MM IB Equity', 'M&M.NS'), ('MPHL IB Equity', 'MPHASIS.NS'), ('MRCO IB Equity', 'MARICO.NS'), ('MSIL IB Equity', 'MARUTI.NS'), ('NEST IB Equity', 'NESTLEIND.NS'), ('NTPC IB Equity', 'NTPC.NS'), ('ONGC IB Equity', 'ONGC.NS'), ('PAG IB Equity', 'PAGEIND.NS'), ('PI IB Equity', 'PIIND.NS'), ('PIDI IB Equity', 'PIDILITIND.NS'), ('PWGR IB Equity', 'POWERGRID.NS'), ('RIL IB Equity', 'RELIANCE.NS'), ('SBICARD IB Equity', 'SBICARD.NS'), ('SBILIFE IB Equity', 'SBILIFE.NS'), ('SBIN IB Equity', 'SBIN.NS'), ('SIEM IB Equity', 'SIEMENS.NS'), ('SRCM IB Equity', 'SHREECEM.NS'), ('SRF IB Equity', 'SRF.NS'), ('SUNP IB Equity', 'SUNPHARMA.NS'), ('TATA IB Equity', 'TATASTEEL.NS'), ('TATACONS IB Equity', 'TATACONSUM.NS'), ('TCS IB Equity', 'TCS.NS'), ('TECHM IB Equity', 'TECHM.NS'), ('TPWR IB Equity', 'TATAPOWER.NS'), ('TRENT IB Equity', 'TRENT.NS'), ('TTAN IB Equity', 'TITAN.NS'), ('TTMT IB Equity', 'TATAMOTORS.NS'), ('UPLL IB Equity', 'UPL.NS'), ('UTCEM IB Equity', 'ULTRACEMCO.NS'), ('VEDL IB Equity', 'VEDL.NS'), ('VOLT IB Equity', 'VOLTAS.NS'), ('WPRO IB Equity', 'WIPRO.NS'), ('Z IB Equity', 'ZEEL.NS')]\n",
        "\n",
        "display_dataframe(names_and_symbols,2007,2023,'1mo')"
      ],
      "metadata": {
        "colab": {
          "base_uri": "https://localhost:8080/",
          "height": 1000
        },
        "id": "f4RHIt3g3_qk",
        "outputId": "85786098-4dd5-4116-8b18-42a7c453e5bd"
      },
      "execution_count": 7,
      "outputs": [
        {
          "output_type": "stream",
          "name": "stdout",
          "text": [
            "Processed:\n"
          ]
        },
        {
          "output_type": "stream",
          "name": "stderr",
          "text": [
            "ERROR:yfinance:AUBANK.NS: Data doesn't exist for startDate = 1167589800, endDate = 1199039400\n",
            "ERROR:yfinance:ADANIPOWER.NS: Data doesn't exist for startDate = 1167589800, endDate = 1199039400\n",
            "ERROR:yfinance:ADANIPOWER.NS: Data doesn't exist for startDate = 1199125800, endDate = 1230661800\n",
            "ERROR:yfinance:AUBANK.NS: Data doesn't exist for startDate = 1199125800, endDate = 1230661800\n",
            "ERROR:yfinance:AUBANK.NS: Data doesn't exist for startDate = 1230748200, endDate = 1262197800\n",
            "ERROR:yfinance:AUBANK.NS: Data doesn't exist for startDate = 1262284200, endDate = 1293733800\n",
            "ERROR:yfinance:AUBANK.NS: Data doesn't exist for startDate = 1293820200, endDate = 1325269800\n",
            "ERROR:yfinance:AUBANK.NS: Data doesn't exist for startDate = 1325356200, endDate = 1356892200\n",
            "ERROR:yfinance:AUBANK.NS: Data doesn't exist for startDate = 1356978600, endDate = 1388428200\n",
            "ERROR:yfinance:AUBANK.NS: Data doesn't exist for startDate = 1388514600, endDate = 1419964200\n",
            "ERROR:yfinance:AUBANK.NS: Data doesn't exist for startDate = 1420050600, endDate = 1451500200\n",
            "ERROR:yfinance:AUBANK.NS: Data doesn't exist for startDate = 1451586600, endDate = 1483122600\n"
          ]
        },
        {
          "output_type": "stream",
          "name": "stdout",
          "text": [
            "ADANI IB Equity\n",
            "ACEM IB EquityAUBANK IB Equity\n",
            "\n",
            "ADSEZ IB Equity\n",
            "APHS IB Equity\n",
            "AXSB IB Equity\n"
          ]
        },
        {
          "output_type": "stream",
          "name": "stderr",
          "text": [
            "ERROR:yfinance:BANDHANBNK.NS: Data doesn't exist for startDate = 1167589800, endDate = 1199039400\n"
          ]
        },
        {
          "output_type": "stream",
          "name": "stdout",
          "text": [
            "ACC IB Equity\n",
            "AL IB Equity\n",
            "APNT IB Equity\n",
            "ARBP IB Equity\n"
          ]
        },
        {
          "output_type": "stream",
          "name": "stderr",
          "text": [
            "ERROR:yfinance:BANDHANBNK.NS: Data doesn't exist for startDate = 1199125800, endDate = 1230661800\n",
            "ERROR:yfinance:BANDHANBNK.NS: Data doesn't exist for startDate = 1230748200, endDate = 1262197800\n",
            "ERROR:yfinance:BANDHANBNK.NS: Data doesn't exist for startDate = 1262284200, endDate = 1293733800\n",
            "ERROR:yfinance:BANDHANBNK.NS: Data doesn't exist for startDate = 1293820200, endDate = 1325269800\n",
            "ERROR:yfinance:BANDHANBNK.NS: Data doesn't exist for startDate = 1325356200, endDate = 1356892200\n",
            "ERROR:yfinance:BANDHANBNK.NS: Data doesn't exist for startDate = 1356978600, endDate = 1388428200\n",
            "ERROR:yfinance:BANDHANBNK.NS: Data doesn't exist for startDate = 1388514600, endDate = 1419964200\n",
            "ERROR:yfinance:BANDHANBNK.NS: Data doesn't exist for startDate = 1420050600, endDate = 1451500200\n",
            "ERROR:yfinance:BANDHANBNK.NS: Data doesn't exist for startDate = 1451586600, endDate = 1483122600\n",
            "ERROR:yfinance:BANDHANBNK.NS: Data doesn't exist for startDate = 1483209000, endDate = 1514658600\n"
          ]
        },
        {
          "output_type": "stream",
          "name": "stdout",
          "text": [
            "BAF IB Equity\n",
            "BHARTI IB Equity\n",
            "BANDHAN IB Equity\n",
            "BHE IB Equity\n",
            "BJAUT IB Equity\n"
          ]
        },
        {
          "output_type": "stream",
          "name": "stderr",
          "text": [
            "ERROR:yfinance:COALINDIA.NS: Data doesn't exist for startDate = 1167589800, endDate = 1199039400\n"
          ]
        },
        {
          "output_type": "stream",
          "name": "stdout",
          "text": [
            "BJFIN IB Equity\n",
            "BOB IB EquityBHFC IB Equity\n",
            "\n"
          ]
        },
        {
          "output_type": "stream",
          "name": "stderr",
          "text": [
            "ERROR:yfinance:COALINDIA.NS: Data doesn't exist for startDate = 1199125800, endDate = 1230661800\n"
          ]
        },
        {
          "output_type": "stream",
          "name": "stdout",
          "text": [
            "BRIT IB Equity\n",
            "BPCL IB Equity\n"
          ]
        },
        {
          "output_type": "stream",
          "name": "stderr",
          "text": [
            "ERROR:yfinance:DMART.NS: Data doesn't exist for startDate = 1167589800, endDate = 1199039400\n",
            "ERROR:yfinance:COALINDIA.NS: Data doesn't exist for startDate = 1230748200, endDate = 1262197800\n",
            "ERROR:yfinance:DMART.NS: Data doesn't exist for startDate = 1199125800, endDate = 1230661800\n",
            "ERROR:yfinance:DMART.NS: Data doesn't exist for startDate = 1230748200, endDate = 1262197800\n",
            "ERROR:yfinance:DMART.NS: Data doesn't exist for startDate = 1262284200, endDate = 1293733800\n",
            "ERROR:yfinance:DMART.NS: Data doesn't exist for startDate = 1293820200, endDate = 1325269800\n",
            "ERROR:yfinance:DMART.NS: Data doesn't exist for startDate = 1325356200, endDate = 1356892200\n",
            "ERROR:yfinance:DMART.NS: Data doesn't exist for startDate = 1356978600, endDate = 1388428200\n",
            "ERROR:yfinance:DMART.NS: Data doesn't exist for startDate = 1388514600, endDate = 1419964200\n",
            "ERROR:yfinance:DMART.NS: Data doesn't exist for startDate = 1420050600, endDate = 1451500200\n",
            "ERROR:yfinance:DMART.NS: Data doesn't exist for startDate = 1451586600, endDate = 1483122600\n"
          ]
        },
        {
          "output_type": "stream",
          "name": "stdout",
          "text": [
            "CIPLA IB Equity\n",
            "COAL IB Equity\n",
            "CLGT IB Equity\n",
            "DABUR IB Equity\n",
            "DLFU IB EquityDIVI IB Equity\n",
            "\n"
          ]
        },
        {
          "output_type": "stream",
          "name": "stderr",
          "text": [
            "ERROR:yfinance:GODREJPROP.NS: Data doesn't exist for startDate = 1167589800, endDate = 1199039400\n"
          ]
        },
        {
          "output_type": "stream",
          "name": "stdout",
          "text": [
            "DMART IB Equity\n"
          ]
        },
        {
          "output_type": "stream",
          "name": "stderr",
          "text": [
            "ERROR:yfinance:GODREJPROP.NS: Data doesn't exist for startDate = 1199125800, endDate = 1230661800\n"
          ]
        },
        {
          "output_type": "stream",
          "name": "stdout",
          "text": [
            "DRRD IB Equity\n"
          ]
        },
        {
          "output_type": "stream",
          "name": "stderr",
          "text": [
            "ERROR:yfinance:GODREJPROP.NS: Data doesn't exist for startDate = 1230748200, endDate = 1262197800\n"
          ]
        },
        {
          "output_type": "stream",
          "name": "stdout",
          "text": [
            "EIM IB EquityFB IB Equity\n",
            "\n",
            "GPL IB Equity\n",
            "GAIL IB Equity\n",
            "GCPL IB Equity\n",
            "HCLT IB Equity\n",
            "GRASIM IB Equity\n"
          ]
        },
        {
          "output_type": "stream",
          "name": "stderr",
          "text": [
            "ERROR:yfinance:ICICIGI.NS: Data doesn't exist for startDate = 1167589800, endDate = 1199039400\n"
          ]
        },
        {
          "output_type": "stream",
          "name": "stdout",
          "text": [
            "HMCL IB Equity\n"
          ]
        },
        {
          "output_type": "stream",
          "name": "stderr",
          "text": [
            "ERROR:yfinance:ICICIGI.NS: Data doesn't exist for startDate = 1199125800, endDate = 1230661800\n",
            "ERROR:yfinance:INDUSTOWER.NS: Data doesn't exist for startDate = 1167589800, endDate = 1199039400\n",
            "ERROR:yfinance:INDIGO.NS: Data doesn't exist for startDate = 1167589800, endDate = 1199039400\n"
          ]
        },
        {
          "output_type": "stream",
          "name": "stdout",
          "text": [
            "HAVL IB Equity\n",
            "HDFCB IB Equity\n"
          ]
        },
        {
          "output_type": "stream",
          "name": "stderr",
          "text": [
            "ERROR:yfinance:ICICIGI.NS: Data doesn't exist for startDate = 1230748200, endDate = 1262197800\n",
            "ERROR:yfinance:INDIGO.NS: Data doesn't exist for startDate = 1199125800, endDate = 1230661800\n",
            "ERROR:yfinance:INDUSTOWER.NS: Data doesn't exist for startDate = 1199125800, endDate = 1230661800\n",
            "ERROR:yfinance:INDIGO.NS: Data doesn't exist for startDate = 1230748200, endDate = 1262197800\n",
            "ERROR:yfinance:ICICIGI.NS: Data doesn't exist for startDate = 1262284200, endDate = 1293733800\n",
            "ERROR:yfinance:INDUSTOWER.NS: Data doesn't exist for startDate = 1230748200, endDate = 1262197800\n"
          ]
        },
        {
          "output_type": "stream",
          "name": "stdout",
          "text": [
            "HNDL IB Equity\n"
          ]
        },
        {
          "output_type": "stream",
          "name": "stderr",
          "text": [
            "ERROR:yfinance:ICICIGI.NS: Data doesn't exist for startDate = 1293820200, endDate = 1325269800\n",
            "ERROR:yfinance:INDUSTOWER.NS: Data doesn't exist for startDate = 1262284200, endDate = 1293733800\n",
            "ERROR:yfinance:INDIGO.NS: Data doesn't exist for startDate = 1262284200, endDate = 1293733800\n"
          ]
        },
        {
          "output_type": "stream",
          "name": "stdout",
          "text": [
            "HUVR IB Equity\n"
          ]
        },
        {
          "output_type": "stream",
          "name": "stderr",
          "text": [
            "ERROR:yfinance:ICICIPRULI.NS: Data doesn't exist for startDate = 1167589800, endDate = 1199039400\n",
            "ERROR:yfinance:ICICIGI.NS: Data doesn't exist for startDate = 1325356200, endDate = 1356892200\n",
            "ERROR:yfinance:INDUSTOWER.NS: Data doesn't exist for startDate = 1293820200, endDate = 1325269800\n",
            "ERROR:yfinance:INDIGO.NS: Data doesn't exist for startDate = 1293820200, endDate = 1325269800\n",
            "ERROR:yfinance:IRCTC.NS: Data doesn't exist for startDate = 1167589800, endDate = 1199039400\n",
            "ERROR:yfinance:ICICIGI.NS: Data doesn't exist for startDate = 1356978600, endDate = 1388428200\n",
            "ERROR:yfinance:ICICIPRULI.NS: Data doesn't exist for startDate = 1199125800, endDate = 1230661800\n",
            "ERROR:yfinance:INDIGO.NS: Data doesn't exist for startDate = 1325356200, endDate = 1356892200\n",
            "ERROR:yfinance:IRCTC.NS: Data doesn't exist for startDate = 1199125800, endDate = 1230661800\n",
            "ERROR:yfinance:ICICIPRULI.NS: Data doesn't exist for startDate = 1230748200, endDate = 1262197800\n",
            "ERROR:yfinance:ICICIGI.NS: Data doesn't exist for startDate = 1388514600, endDate = 1419964200\n",
            "ERROR:yfinance:IRCTC.NS: Data doesn't exist for startDate = 1230748200, endDate = 1262197800\n",
            "ERROR:yfinance:INDIGO.NS: Data doesn't exist for startDate = 1356978600, endDate = 1388428200\n",
            "ERROR:yfinance:ICICIGI.NS: Data doesn't exist for startDate = 1420050600, endDate = 1451500200\n",
            "ERROR:yfinance:ICICIPRULI.NS: Data doesn't exist for startDate = 1262284200, endDate = 1293733800\n",
            "ERROR:yfinance:INDIGO.NS: Data doesn't exist for startDate = 1388514600, endDate = 1419964200\n",
            "ERROR:yfinance:IRCTC.NS: Data doesn't exist for startDate = 1262284200, endDate = 1293733800\n",
            "ERROR:yfinance:ICICIGI.NS: Data doesn't exist for startDate = 1451586600, endDate = 1483122600\n",
            "ERROR:yfinance:ICICIPRULI.NS: Data doesn't exist for startDate = 1293820200, endDate = 1325269800\n"
          ]
        },
        {
          "output_type": "stream",
          "name": "stdout",
          "text": [
            "ICICIBC IB Equity\n"
          ]
        },
        {
          "output_type": "stream",
          "name": "stderr",
          "text": [
            "ERROR:yfinance:IRCTC.NS: Data doesn't exist for startDate = 1293820200, endDate = 1325269800\n",
            "ERROR:yfinance:ICICIPRULI.NS: Data doesn't exist for startDate = 1325356200, endDate = 1356892200\n"
          ]
        },
        {
          "output_type": "stream",
          "name": "stdout",
          "text": [
            "IIB IB Equity\n"
          ]
        },
        {
          "output_type": "stream",
          "name": "stderr",
          "text": [
            "ERROR:yfinance:IRCTC.NS: Data doesn't exist for startDate = 1325356200, endDate = 1356892200\n",
            "ERROR:yfinance:ICICIPRULI.NS: Data doesn't exist for startDate = 1356978600, endDate = 1388428200\n"
          ]
        },
        {
          "output_type": "stream",
          "name": "stdout",
          "text": [
            "INDUSTOW IB Equity\n",
            "INFO IB Equity\n"
          ]
        },
        {
          "output_type": "stream",
          "name": "stderr",
          "text": [
            "ERROR:yfinance:IRCTC.NS: Data doesn't exist for startDate = 1356978600, endDate = 1388428200\n"
          ]
        },
        {
          "output_type": "stream",
          "name": "stdout",
          "text": [
            "IOCL IB Equity\n",
            "INFOE IB Equity\n"
          ]
        },
        {
          "output_type": "stream",
          "name": "stderr",
          "text": [
            "ERROR:yfinance:ICICIPRULI.NS: Data doesn't exist for startDate = 1388514600, endDate = 1419964200\n",
            "ERROR:yfinance:JUBLFOOD.NS: Data doesn't exist for startDate = 1167589800, endDate = 1199039400\n",
            "ERROR:yfinance:ICICIPRULI.NS: Data doesn't exist for startDate = 1420050600, endDate = 1451500200\n",
            "ERROR:yfinance:IRCTC.NS: Data doesn't exist for startDate = 1388514600, endDate = 1419964200\n"
          ]
        },
        {
          "output_type": "stream",
          "name": "stdout",
          "text": [
            "ICICIGI IB Equity\n"
          ]
        },
        {
          "output_type": "stream",
          "name": "stderr",
          "text": [
            "ERROR:yfinance:JUBLFOOD.NS: Data doesn't exist for startDate = 1199125800, endDate = 1230661800\n"
          ]
        },
        {
          "output_type": "stream",
          "name": "stdout",
          "text": [
            "INDIGO IB Equity\n"
          ]
        },
        {
          "output_type": "stream",
          "name": "stderr",
          "text": [
            "ERROR:yfinance:IRCTC.NS: Data doesn't exist for startDate = 1420050600, endDate = 1451500200\n",
            "ERROR:yfinance:LTIM.NS: Data doesn't exist for startDate = 1167589800, endDate = 1199039400\n",
            "ERROR:yfinance:JUBLFOOD.NS: Data doesn't exist for startDate = 1230748200, endDate = 1262197800\n",
            "ERROR:yfinance:IRCTC.NS: Data doesn't exist for startDate = 1451586600, endDate = 1483122600\n",
            "ERROR:yfinance:LTIM.NS: Data doesn't exist for startDate = 1199125800, endDate = 1230661800\n",
            "ERROR:yfinance:LTIM.NS: Data doesn't exist for startDate = 1230748200, endDate = 1262197800\n",
            "ERROR:yfinance:IRCTC.NS: Data doesn't exist for startDate = 1483209000, endDate = 1514658600\n",
            "ERROR:yfinance:IRCTC.NS: Data doesn't exist for startDate = 1514745000, endDate = 1546194600\n",
            "ERROR:yfinance:LTIM.NS: Data doesn't exist for startDate = 1262284200, endDate = 1293733800\n",
            "ERROR:yfinance:LTIM.NS: Data doesn't exist for startDate = 1293820200, endDate = 1325269800\n",
            "ERROR:yfinance:LTIM.NS: Data doesn't exist for startDate = 1325356200, endDate = 1356892200\n"
          ]
        },
        {
          "output_type": "stream",
          "name": "stdout",
          "text": [
            "IPRU IB Equity\n"
          ]
        },
        {
          "output_type": "stream",
          "name": "stderr",
          "text": [
            "ERROR:yfinance:LTIM.NS: Data doesn't exist for startDate = 1356978600, endDate = 1388428200\n"
          ]
        },
        {
          "output_type": "stream",
          "name": "stdout",
          "text": [
            "IRCTC IB Equity\n"
          ]
        },
        {
          "output_type": "stream",
          "name": "stderr",
          "text": [
            "ERROR:yfinance:LTIM.NS: Data doesn't exist for startDate = 1388514600, endDate = 1419964200\n"
          ]
        },
        {
          "output_type": "stream",
          "name": "stdout",
          "text": [
            "ITC IB Equity\n"
          ]
        },
        {
          "output_type": "stream",
          "name": "stderr",
          "text": [
            "ERROR:yfinance:LTIM.NS: Data doesn't exist for startDate = 1420050600, endDate = 1451500200\n"
          ]
        },
        {
          "output_type": "stream",
          "name": "stdout",
          "text": [
            "JSTL IB Equity\n",
            "LPC IB Equity\n",
            "KMB IB Equity\n",
            "LT IB Equity\n",
            "JUBI IB Equity\n",
            "LTIM IB Equity\n"
          ]
        },
        {
          "output_type": "stream",
          "name": "stderr",
          "text": [
            "ERROR:yfinance:PIIND.NS: Data doesn't exist for startDate = 1167589800, endDate = 1199039400\n"
          ]
        },
        {
          "output_type": "stream",
          "name": "stdout",
          "text": [
            "MAXF IB Equity\n"
          ]
        },
        {
          "output_type": "stream",
          "name": "stderr",
          "text": [
            "ERROR:yfinance:PIIND.NS: Data doesn't exist for startDate = 1199125800, endDate = 1230661800\n",
            "ERROR:yfinance:PIIND.NS: Data doesn't exist for startDate = 1230748200, endDate = 1262197800\n",
            "ERROR:yfinance:PIIND.NS: Data doesn't exist for startDate = 1262284200, endDate = 1293733800\n"
          ]
        },
        {
          "output_type": "stream",
          "name": "stdout",
          "text": [
            "MPHL IB Equity\n",
            "MM IB Equity\n",
            "MRCO IB Equity\n",
            "MSIL IB Equity\n"
          ]
        },
        {
          "output_type": "stream",
          "name": "stderr",
          "text": [
            "ERROR:yfinance:SBILIFE.NS: Data doesn't exist for startDate = 1167589800, endDate = 1199039400\n",
            "ERROR:yfinance:SBICARD.NS: Data doesn't exist for startDate = 1167589800, endDate = 1199039400\n"
          ]
        },
        {
          "output_type": "stream",
          "name": "stdout",
          "text": [
            "NTPC IB Equity\n",
            "ONGC IB Equity\n"
          ]
        },
        {
          "output_type": "stream",
          "name": "stderr",
          "text": [
            "ERROR:yfinance:SBICARD.NS: Data doesn't exist for startDate = 1199125800, endDate = 1230661800\n",
            "ERROR:yfinance:SBILIFE.NS: Data doesn't exist for startDate = 1199125800, endDate = 1230661800\n"
          ]
        },
        {
          "output_type": "stream",
          "name": "stdout",
          "text": [
            "PAG IB Equity\n",
            "NEST IB Equity\n"
          ]
        },
        {
          "output_type": "stream",
          "name": "stderr",
          "text": [
            "ERROR:yfinance:SBICARD.NS: Data doesn't exist for startDate = 1230748200, endDate = 1262197800\n",
            "ERROR:yfinance:SBILIFE.NS: Data doesn't exist for startDate = 1230748200, endDate = 1262197800\n"
          ]
        },
        {
          "output_type": "stream",
          "name": "stdout",
          "text": [
            "PI IB Equity\n"
          ]
        },
        {
          "output_type": "stream",
          "name": "stderr",
          "text": [
            "ERROR:yfinance:SBICARD.NS: Data doesn't exist for startDate = 1262284200, endDate = 1293733800\n",
            "ERROR:yfinance:SBILIFE.NS: Data doesn't exist for startDate = 1262284200, endDate = 1293733800\n",
            "ERROR:yfinance:SBILIFE.NS: Data doesn't exist for startDate = 1293820200, endDate = 1325269800\n",
            "ERROR:yfinance:SBICARD.NS: Data doesn't exist for startDate = 1293820200, endDate = 1325269800\n"
          ]
        },
        {
          "output_type": "stream",
          "name": "stdout",
          "text": [
            "PIDI IB Equity\n"
          ]
        },
        {
          "output_type": "stream",
          "name": "stderr",
          "text": [
            "ERROR:yfinance:SBICARD.NS: Data doesn't exist for startDate = 1325356200, endDate = 1356892200\n",
            "ERROR:yfinance:SBILIFE.NS: Data doesn't exist for startDate = 1325356200, endDate = 1356892200\n",
            "ERROR:yfinance:SBICARD.NS: Data doesn't exist for startDate = 1356978600, endDate = 1388428200\n",
            "ERROR:yfinance:SBILIFE.NS: Data doesn't exist for startDate = 1356978600, endDate = 1388428200\n",
            "ERROR:yfinance:SBILIFE.NS: Data doesn't exist for startDate = 1388514600, endDate = 1419964200\n",
            "ERROR:yfinance:SBICARD.NS: Data doesn't exist for startDate = 1388514600, endDate = 1419964200\n",
            "ERROR:yfinance:SBICARD.NS: Data doesn't exist for startDate = 1420050600, endDate = 1451500200\n",
            "ERROR:yfinance:SBILIFE.NS: Data doesn't exist for startDate = 1420050600, endDate = 1451500200\n",
            "ERROR:yfinance:SBICARD.NS: Data doesn't exist for startDate = 1451586600, endDate = 1483122600\n",
            "ERROR:yfinance:SBILIFE.NS: Data doesn't exist for startDate = 1451586600, endDate = 1483122600\n",
            "ERROR:yfinance:SBICARD.NS: Data doesn't exist for startDate = 1483209000, endDate = 1514658600\n",
            "ERROR:yfinance:SBICARD.NS: Data doesn't exist for startDate = 1514745000, endDate = 1546194600\n"
          ]
        },
        {
          "output_type": "stream",
          "name": "stdout",
          "text": [
            "PWGR IB Equity\n"
          ]
        },
        {
          "output_type": "stream",
          "name": "stderr",
          "text": [
            "ERROR:yfinance:SBICARD.NS: Data doesn't exist for startDate = 1546281000, endDate = 1577730600\n"
          ]
        },
        {
          "output_type": "stream",
          "name": "stdout",
          "text": [
            "RIL IB Equity\n",
            "SBILIFE IB Equity\n",
            "SBICARD IB Equity\n",
            "SBIN IB Equity\n",
            "SIEM IB Equity\n",
            "SRF IB Equity\n",
            "SUNP IB Equity\n",
            "SRCM IB Equity\n",
            "TATA IB Equity\n",
            "TATACONS IB Equity\n",
            "TECHM IB Equity\n",
            "TCS IB Equity\n",
            "TPWR IB Equity\n",
            "TTMT IB Equity\n",
            "TRENT IB Equity\n",
            "UTCEM IB Equity\n",
            "TTAN IB Equity\n",
            "UPLL IB Equity\n",
            "VEDL IB Equity\n",
            "VOLT IB Equity\n",
            "WPRO IB Equity\n",
            "Z IB Equity\n",
            "A excel file named 'All_IB_Equity.xlsx'has been saved to local pc in the same directory.\n"
          ]
        },
        {
          "output_type": "execute_result",
          "data": {
            "text/plain": [
              "                    ACC IB Equity                                         \\\n",
              "                             Open         High          Low        Close   \n",
              "Date                                                                       \n",
              "2007-01-01 18:30:00    798.694298   799.350178   789.293590   796.471619   \n",
              "2007-01-02 18:30:00    787.034593   804.815763   777.561028   782.370667   \n",
              "2007-01-03 18:30:00    789.584947   794.176016   775.374604   781.058777   \n",
              "2007-01-04 18:30:00    787.034521   787.034521   761.601629   768.597473   \n",
              "2007-01-07 18:30:00    768.816057   772.423262   743.346739   749.613892   \n",
              "...                           ...          ...          ...          ...   \n",
              "2023-12-14 18:30:00   2239.949951  2241.500000  2206.000000  2212.350098   \n",
              "2023-12-17 18:30:00   2232.000000  2240.800049  2211.000000  2237.250000   \n",
              "2023-12-18 18:30:00   2238.000000  2254.000000  2187.699951  2202.750000   \n",
              "2023-12-19 18:30:00   2209.000000  2217.050049  2070.000000  2086.649902   \n",
              "2023-12-20 18:30:00   2055.000000  2115.000000  2046.050049  2107.399902   \n",
              "\n",
              "                                                     ACEM IB Equity  \\\n",
              "                       Volume Dividends Stock Splits           Open   \n",
              "Date                                                                  \n",
              "2007-01-01 18:30:00  261173.0       0.0          0.0     108.642695   \n",
              "2007-01-02 18:30:00  429012.0       0.0          0.0     104.711532   \n",
              "2007-01-03 18:30:00  448277.0       0.0          0.0     105.068895   \n",
              "2007-01-04 18:30:00  319430.0       0.0          0.0     101.852522   \n",
              "2007-01-07 18:30:00  311429.0       0.0          0.0      99.922695   \n",
              "...                       ...       ...          ...            ...   \n",
              "2023-12-14 18:30:00  362643.0       0.0          0.0     523.700012   \n",
              "2023-12-17 18:30:00  312895.0       0.0          0.0     530.000000   \n",
              "2023-12-18 18:30:00  445489.0       0.0          0.0     528.400024   \n",
              "2023-12-19 18:30:00  895756.0       0.0          0.0     524.000000   \n",
              "2023-12-20 18:30:00  505419.0       0.0          0.0     481.000000   \n",
              "\n",
              "                                             ... WPRO IB Equity            \\\n",
              "                           High         Low  ...         Volume Dividends   \n",
              "Date                                         ...                            \n",
              "2007-01-01 18:30:00  108.642695  100.780395  ...      2135195.0       0.0   \n",
              "2007-01-02 18:30:00  105.319078  102.960386  ...      4827355.0       0.0   \n",
              "2007-01-03 18:30:00  105.068895  101.566603  ...      3837519.0       0.0   \n",
              "2007-01-04 18:30:00  102.888914   98.314490  ...      2771786.0       0.0   \n",
              "2007-01-07 18:30:00   99.922695   97.206625  ...      3708888.0       0.0   \n",
              "...                         ...         ...  ...            ...       ...   \n",
              "2023-12-14 18:30:00  529.400024  514.500000  ...     20783617.0       0.0   \n",
              "2023-12-17 18:30:00  532.500000  524.299988  ...     10091036.0       0.0   \n",
              "2023-12-18 18:30:00  530.549988  517.000000  ...      8032347.0       0.0   \n",
              "2023-12-19 18:30:00  526.299988  486.000000  ...     13224971.0       0.0   \n",
              "2023-12-20 18:30:00  505.899994  480.450012  ...      5329764.0       0.0   \n",
              "\n",
              "                                 Z IB Equity                          \\\n",
              "                    Stock Splits        Open        High         Low   \n",
              "Date                                                                   \n",
              "2007-01-01 18:30:00          0.0   96.292228   96.949510   94.057461   \n",
              "2007-01-02 18:30:00          0.0   94.714727   95.618491   92.710010   \n",
              "2007-01-03 18:30:00          0.0   93.367302   96.505840   93.170119   \n",
              "2007-01-04 18:30:00          0.0   94.320377   94.484701   92.019884   \n",
              "2007-01-07 18:30:00          0.0   92.644292   93.991722   89.620779   \n",
              "...                          ...         ...         ...         ...   \n",
              "2023-12-14 18:30:00          0.0  282.899994  286.549988  273.000000   \n",
              "2023-12-17 18:30:00          0.0  270.850006  282.000000  266.000000   \n",
              "2023-12-18 18:30:00          0.0  273.899994  277.000000  267.149994   \n",
              "2023-12-19 18:30:00          0.0  272.500000  276.649994  248.149994   \n",
              "2023-12-20 18:30:00          0.0  258.000000  266.799988  256.049988   \n",
              "\n",
              "                                                                    \n",
              "                          Close      Volume Dividends Stock Splits  \n",
              "Date                                                                \n",
              "2007-01-01 18:30:00   94.435394   3360110.0       0.0          0.0  \n",
              "2007-01-02 18:30:00   93.268700   3901162.0       0.0          0.0  \n",
              "2007-01-03 18:30:00   94.517555   4609695.0       0.0          0.0  \n",
              "2007-01-04 18:30:00   92.562141   2655406.0       0.0          0.0  \n",
              "2007-01-07 18:30:00   90.278061   2468864.0       0.0          0.0  \n",
              "...                         ...         ...       ...          ...  \n",
              "2023-12-14 18:30:00  277.600006  27948051.0       0.0          0.0  \n",
              "2023-12-17 18:30:00  280.500000  26259529.0       0.0          0.0  \n",
              "2023-12-18 18:30:00  271.700012  31847804.0       0.0          0.0  \n",
              "2023-12-19 18:30:00  251.949997  26075974.0       0.0          0.0  \n",
              "2023-12-20 18:30:00  262.200012  31815242.0       0.0          0.0  \n",
              "\n",
              "[4175 rows x 653 columns]"
            ],
            "text/html": [
              "\n",
              "  <div id=\"df-4abb4ad8-eb79-45c8-9021-a566ea2c8913\" class=\"colab-df-container\">\n",
              "    <div>\n",
              "<style scoped>\n",
              "    .dataframe tbody tr th:only-of-type {\n",
              "        vertical-align: middle;\n",
              "    }\n",
              "\n",
              "    .dataframe tbody tr th {\n",
              "        vertical-align: top;\n",
              "    }\n",
              "\n",
              "    .dataframe thead tr th {\n",
              "        text-align: left;\n",
              "    }\n",
              "\n",
              "    .dataframe thead tr:last-of-type th {\n",
              "        text-align: right;\n",
              "    }\n",
              "</style>\n",
              "<table border=\"1\" class=\"dataframe\">\n",
              "  <thead>\n",
              "    <tr>\n",
              "      <th></th>\n",
              "      <th colspan=\"7\" halign=\"left\">ACC IB Equity</th>\n",
              "      <th colspan=\"3\" halign=\"left\">ACEM IB Equity</th>\n",
              "      <th>...</th>\n",
              "      <th colspan=\"3\" halign=\"left\">WPRO IB Equity</th>\n",
              "      <th colspan=\"7\" halign=\"left\">Z IB Equity</th>\n",
              "    </tr>\n",
              "    <tr>\n",
              "      <th></th>\n",
              "      <th>Open</th>\n",
              "      <th>High</th>\n",
              "      <th>Low</th>\n",
              "      <th>Close</th>\n",
              "      <th>Volume</th>\n",
              "      <th>Dividends</th>\n",
              "      <th>Stock Splits</th>\n",
              "      <th>Open</th>\n",
              "      <th>High</th>\n",
              "      <th>Low</th>\n",
              "      <th>...</th>\n",
              "      <th>Volume</th>\n",
              "      <th>Dividends</th>\n",
              "      <th>Stock Splits</th>\n",
              "      <th>Open</th>\n",
              "      <th>High</th>\n",
              "      <th>Low</th>\n",
              "      <th>Close</th>\n",
              "      <th>Volume</th>\n",
              "      <th>Dividends</th>\n",
              "      <th>Stock Splits</th>\n",
              "    </tr>\n",
              "    <tr>\n",
              "      <th>Date</th>\n",
              "      <th></th>\n",
              "      <th></th>\n",
              "      <th></th>\n",
              "      <th></th>\n",
              "      <th></th>\n",
              "      <th></th>\n",
              "      <th></th>\n",
              "      <th></th>\n",
              "      <th></th>\n",
              "      <th></th>\n",
              "      <th></th>\n",
              "      <th></th>\n",
              "      <th></th>\n",
              "      <th></th>\n",
              "      <th></th>\n",
              "      <th></th>\n",
              "      <th></th>\n",
              "      <th></th>\n",
              "      <th></th>\n",
              "      <th></th>\n",
              "      <th></th>\n",
              "    </tr>\n",
              "  </thead>\n",
              "  <tbody>\n",
              "    <tr>\n",
              "      <th>2007-01-01 18:30:00</th>\n",
              "      <td>798.694298</td>\n",
              "      <td>799.350178</td>\n",
              "      <td>789.293590</td>\n",
              "      <td>796.471619</td>\n",
              "      <td>261173.0</td>\n",
              "      <td>0.0</td>\n",
              "      <td>0.0</td>\n",
              "      <td>108.642695</td>\n",
              "      <td>108.642695</td>\n",
              "      <td>100.780395</td>\n",
              "      <td>...</td>\n",
              "      <td>2135195.0</td>\n",
              "      <td>0.0</td>\n",
              "      <td>0.0</td>\n",
              "      <td>96.292228</td>\n",
              "      <td>96.949510</td>\n",
              "      <td>94.057461</td>\n",
              "      <td>94.435394</td>\n",
              "      <td>3360110.0</td>\n",
              "      <td>0.0</td>\n",
              "      <td>0.0</td>\n",
              "    </tr>\n",
              "    <tr>\n",
              "      <th>2007-01-02 18:30:00</th>\n",
              "      <td>787.034593</td>\n",
              "      <td>804.815763</td>\n",
              "      <td>777.561028</td>\n",
              "      <td>782.370667</td>\n",
              "      <td>429012.0</td>\n",
              "      <td>0.0</td>\n",
              "      <td>0.0</td>\n",
              "      <td>104.711532</td>\n",
              "      <td>105.319078</td>\n",
              "      <td>102.960386</td>\n",
              "      <td>...</td>\n",
              "      <td>4827355.0</td>\n",
              "      <td>0.0</td>\n",
              "      <td>0.0</td>\n",
              "      <td>94.714727</td>\n",
              "      <td>95.618491</td>\n",
              "      <td>92.710010</td>\n",
              "      <td>93.268700</td>\n",
              "      <td>3901162.0</td>\n",
              "      <td>0.0</td>\n",
              "      <td>0.0</td>\n",
              "    </tr>\n",
              "    <tr>\n",
              "      <th>2007-01-03 18:30:00</th>\n",
              "      <td>789.584947</td>\n",
              "      <td>794.176016</td>\n",
              "      <td>775.374604</td>\n",
              "      <td>781.058777</td>\n",
              "      <td>448277.0</td>\n",
              "      <td>0.0</td>\n",
              "      <td>0.0</td>\n",
              "      <td>105.068895</td>\n",
              "      <td>105.068895</td>\n",
              "      <td>101.566603</td>\n",
              "      <td>...</td>\n",
              "      <td>3837519.0</td>\n",
              "      <td>0.0</td>\n",
              "      <td>0.0</td>\n",
              "      <td>93.367302</td>\n",
              "      <td>96.505840</td>\n",
              "      <td>93.170119</td>\n",
              "      <td>94.517555</td>\n",
              "      <td>4609695.0</td>\n",
              "      <td>0.0</td>\n",
              "      <td>0.0</td>\n",
              "    </tr>\n",
              "    <tr>\n",
              "      <th>2007-01-04 18:30:00</th>\n",
              "      <td>787.034521</td>\n",
              "      <td>787.034521</td>\n",
              "      <td>761.601629</td>\n",
              "      <td>768.597473</td>\n",
              "      <td>319430.0</td>\n",
              "      <td>0.0</td>\n",
              "      <td>0.0</td>\n",
              "      <td>101.852522</td>\n",
              "      <td>102.888914</td>\n",
              "      <td>98.314490</td>\n",
              "      <td>...</td>\n",
              "      <td>2771786.0</td>\n",
              "      <td>0.0</td>\n",
              "      <td>0.0</td>\n",
              "      <td>94.320377</td>\n",
              "      <td>94.484701</td>\n",
              "      <td>92.019884</td>\n",
              "      <td>92.562141</td>\n",
              "      <td>2655406.0</td>\n",
              "      <td>0.0</td>\n",
              "      <td>0.0</td>\n",
              "    </tr>\n",
              "    <tr>\n",
              "      <th>2007-01-07 18:30:00</th>\n",
              "      <td>768.816057</td>\n",
              "      <td>772.423262</td>\n",
              "      <td>743.346739</td>\n",
              "      <td>749.613892</td>\n",
              "      <td>311429.0</td>\n",
              "      <td>0.0</td>\n",
              "      <td>0.0</td>\n",
              "      <td>99.922695</td>\n",
              "      <td>99.922695</td>\n",
              "      <td>97.206625</td>\n",
              "      <td>...</td>\n",
              "      <td>3708888.0</td>\n",
              "      <td>0.0</td>\n",
              "      <td>0.0</td>\n",
              "      <td>92.644292</td>\n",
              "      <td>93.991722</td>\n",
              "      <td>89.620779</td>\n",
              "      <td>90.278061</td>\n",
              "      <td>2468864.0</td>\n",
              "      <td>0.0</td>\n",
              "      <td>0.0</td>\n",
              "    </tr>\n",
              "    <tr>\n",
              "      <th>...</th>\n",
              "      <td>...</td>\n",
              "      <td>...</td>\n",
              "      <td>...</td>\n",
              "      <td>...</td>\n",
              "      <td>...</td>\n",
              "      <td>...</td>\n",
              "      <td>...</td>\n",
              "      <td>...</td>\n",
              "      <td>...</td>\n",
              "      <td>...</td>\n",
              "      <td>...</td>\n",
              "      <td>...</td>\n",
              "      <td>...</td>\n",
              "      <td>...</td>\n",
              "      <td>...</td>\n",
              "      <td>...</td>\n",
              "      <td>...</td>\n",
              "      <td>...</td>\n",
              "      <td>...</td>\n",
              "      <td>...</td>\n",
              "      <td>...</td>\n",
              "    </tr>\n",
              "    <tr>\n",
              "      <th>2023-12-14 18:30:00</th>\n",
              "      <td>2239.949951</td>\n",
              "      <td>2241.500000</td>\n",
              "      <td>2206.000000</td>\n",
              "      <td>2212.350098</td>\n",
              "      <td>362643.0</td>\n",
              "      <td>0.0</td>\n",
              "      <td>0.0</td>\n",
              "      <td>523.700012</td>\n",
              "      <td>529.400024</td>\n",
              "      <td>514.500000</td>\n",
              "      <td>...</td>\n",
              "      <td>20783617.0</td>\n",
              "      <td>0.0</td>\n",
              "      <td>0.0</td>\n",
              "      <td>282.899994</td>\n",
              "      <td>286.549988</td>\n",
              "      <td>273.000000</td>\n",
              "      <td>277.600006</td>\n",
              "      <td>27948051.0</td>\n",
              "      <td>0.0</td>\n",
              "      <td>0.0</td>\n",
              "    </tr>\n",
              "    <tr>\n",
              "      <th>2023-12-17 18:30:00</th>\n",
              "      <td>2232.000000</td>\n",
              "      <td>2240.800049</td>\n",
              "      <td>2211.000000</td>\n",
              "      <td>2237.250000</td>\n",
              "      <td>312895.0</td>\n",
              "      <td>0.0</td>\n",
              "      <td>0.0</td>\n",
              "      <td>530.000000</td>\n",
              "      <td>532.500000</td>\n",
              "      <td>524.299988</td>\n",
              "      <td>...</td>\n",
              "      <td>10091036.0</td>\n",
              "      <td>0.0</td>\n",
              "      <td>0.0</td>\n",
              "      <td>270.850006</td>\n",
              "      <td>282.000000</td>\n",
              "      <td>266.000000</td>\n",
              "      <td>280.500000</td>\n",
              "      <td>26259529.0</td>\n",
              "      <td>0.0</td>\n",
              "      <td>0.0</td>\n",
              "    </tr>\n",
              "    <tr>\n",
              "      <th>2023-12-18 18:30:00</th>\n",
              "      <td>2238.000000</td>\n",
              "      <td>2254.000000</td>\n",
              "      <td>2187.699951</td>\n",
              "      <td>2202.750000</td>\n",
              "      <td>445489.0</td>\n",
              "      <td>0.0</td>\n",
              "      <td>0.0</td>\n",
              "      <td>528.400024</td>\n",
              "      <td>530.549988</td>\n",
              "      <td>517.000000</td>\n",
              "      <td>...</td>\n",
              "      <td>8032347.0</td>\n",
              "      <td>0.0</td>\n",
              "      <td>0.0</td>\n",
              "      <td>273.899994</td>\n",
              "      <td>277.000000</td>\n",
              "      <td>267.149994</td>\n",
              "      <td>271.700012</td>\n",
              "      <td>31847804.0</td>\n",
              "      <td>0.0</td>\n",
              "      <td>0.0</td>\n",
              "    </tr>\n",
              "    <tr>\n",
              "      <th>2023-12-19 18:30:00</th>\n",
              "      <td>2209.000000</td>\n",
              "      <td>2217.050049</td>\n",
              "      <td>2070.000000</td>\n",
              "      <td>2086.649902</td>\n",
              "      <td>895756.0</td>\n",
              "      <td>0.0</td>\n",
              "      <td>0.0</td>\n",
              "      <td>524.000000</td>\n",
              "      <td>526.299988</td>\n",
              "      <td>486.000000</td>\n",
              "      <td>...</td>\n",
              "      <td>13224971.0</td>\n",
              "      <td>0.0</td>\n",
              "      <td>0.0</td>\n",
              "      <td>272.500000</td>\n",
              "      <td>276.649994</td>\n",
              "      <td>248.149994</td>\n",
              "      <td>251.949997</td>\n",
              "      <td>26075974.0</td>\n",
              "      <td>0.0</td>\n",
              "      <td>0.0</td>\n",
              "    </tr>\n",
              "    <tr>\n",
              "      <th>2023-12-20 18:30:00</th>\n",
              "      <td>2055.000000</td>\n",
              "      <td>2115.000000</td>\n",
              "      <td>2046.050049</td>\n",
              "      <td>2107.399902</td>\n",
              "      <td>505419.0</td>\n",
              "      <td>0.0</td>\n",
              "      <td>0.0</td>\n",
              "      <td>481.000000</td>\n",
              "      <td>505.899994</td>\n",
              "      <td>480.450012</td>\n",
              "      <td>...</td>\n",
              "      <td>5329764.0</td>\n",
              "      <td>0.0</td>\n",
              "      <td>0.0</td>\n",
              "      <td>258.000000</td>\n",
              "      <td>266.799988</td>\n",
              "      <td>256.049988</td>\n",
              "      <td>262.200012</td>\n",
              "      <td>31815242.0</td>\n",
              "      <td>0.0</td>\n",
              "      <td>0.0</td>\n",
              "    </tr>\n",
              "  </tbody>\n",
              "</table>\n",
              "<p>4175 rows × 653 columns</p>\n",
              "</div>\n",
              "    <div class=\"colab-df-buttons\">\n",
              "\n",
              "  <div class=\"colab-df-container\">\n",
              "    <button class=\"colab-df-convert\" onclick=\"convertToInteractive('df-4abb4ad8-eb79-45c8-9021-a566ea2c8913')\"\n",
              "            title=\"Convert this dataframe to an interactive table.\"\n",
              "            style=\"display:none;\">\n",
              "\n",
              "  <svg xmlns=\"http://www.w3.org/2000/svg\" height=\"24px\" viewBox=\"0 -960 960 960\">\n",
              "    <path d=\"M120-120v-720h720v720H120Zm60-500h600v-160H180v160Zm220 220h160v-160H400v160Zm0 220h160v-160H400v160ZM180-400h160v-160H180v160Zm440 0h160v-160H620v160ZM180-180h160v-160H180v160Zm440 0h160v-160H620v160Z\"/>\n",
              "  </svg>\n",
              "    </button>\n",
              "\n",
              "  <style>\n",
              "    .colab-df-container {\n",
              "      display:flex;\n",
              "      gap: 12px;\n",
              "    }\n",
              "\n",
              "    .colab-df-convert {\n",
              "      background-color: #E8F0FE;\n",
              "      border: none;\n",
              "      border-radius: 50%;\n",
              "      cursor: pointer;\n",
              "      display: none;\n",
              "      fill: #1967D2;\n",
              "      height: 32px;\n",
              "      padding: 0 0 0 0;\n",
              "      width: 32px;\n",
              "    }\n",
              "\n",
              "    .colab-df-convert:hover {\n",
              "      background-color: #E2EBFA;\n",
              "      box-shadow: 0px 1px 2px rgba(60, 64, 67, 0.3), 0px 1px 3px 1px rgba(60, 64, 67, 0.15);\n",
              "      fill: #174EA6;\n",
              "    }\n",
              "\n",
              "    .colab-df-buttons div {\n",
              "      margin-bottom: 4px;\n",
              "    }\n",
              "\n",
              "    [theme=dark] .colab-df-convert {\n",
              "      background-color: #3B4455;\n",
              "      fill: #D2E3FC;\n",
              "    }\n",
              "\n",
              "    [theme=dark] .colab-df-convert:hover {\n",
              "      background-color: #434B5C;\n",
              "      box-shadow: 0px 1px 3px 1px rgba(0, 0, 0, 0.15);\n",
              "      filter: drop-shadow(0px 1px 2px rgba(0, 0, 0, 0.3));\n",
              "      fill: #FFFFFF;\n",
              "    }\n",
              "  </style>\n",
              "\n",
              "    <script>\n",
              "      const buttonEl =\n",
              "        document.querySelector('#df-4abb4ad8-eb79-45c8-9021-a566ea2c8913 button.colab-df-convert');\n",
              "      buttonEl.style.display =\n",
              "        google.colab.kernel.accessAllowed ? 'block' : 'none';\n",
              "\n",
              "      async function convertToInteractive(key) {\n",
              "        const element = document.querySelector('#df-4abb4ad8-eb79-45c8-9021-a566ea2c8913');\n",
              "        const dataTable =\n",
              "          await google.colab.kernel.invokeFunction('convertToInteractive',\n",
              "                                                    [key], {});\n",
              "        if (!dataTable) return;\n",
              "\n",
              "        const docLinkHtml = 'Like what you see? Visit the ' +\n",
              "          '<a target=\"_blank\" href=https://colab.research.google.com/notebooks/data_table.ipynb>data table notebook</a>'\n",
              "          + ' to learn more about interactive tables.';\n",
              "        element.innerHTML = '';\n",
              "        dataTable['output_type'] = 'display_data';\n",
              "        await google.colab.output.renderOutput(dataTable, element);\n",
              "        const docLink = document.createElement('div');\n",
              "        docLink.innerHTML = docLinkHtml;\n",
              "        element.appendChild(docLink);\n",
              "      }\n",
              "    </script>\n",
              "  </div>\n",
              "\n",
              "\n",
              "<div id=\"df-b0aa1a0f-ce27-4293-9dfc-78ddb5f78de7\">\n",
              "  <button class=\"colab-df-quickchart\" onclick=\"quickchart('df-b0aa1a0f-ce27-4293-9dfc-78ddb5f78de7')\"\n",
              "            title=\"Suggest charts\"\n",
              "            style=\"display:none;\">\n",
              "\n",
              "<svg xmlns=\"http://www.w3.org/2000/svg\" height=\"24px\"viewBox=\"0 0 24 24\"\n",
              "     width=\"24px\">\n",
              "    <g>\n",
              "        <path d=\"M19 3H5c-1.1 0-2 .9-2 2v14c0 1.1.9 2 2 2h14c1.1 0 2-.9 2-2V5c0-1.1-.9-2-2-2zM9 17H7v-7h2v7zm4 0h-2V7h2v10zm4 0h-2v-4h2v4z\"/>\n",
              "    </g>\n",
              "</svg>\n",
              "  </button>\n",
              "\n",
              "<style>\n",
              "  .colab-df-quickchart {\n",
              "      --bg-color: #E8F0FE;\n",
              "      --fill-color: #1967D2;\n",
              "      --hover-bg-color: #E2EBFA;\n",
              "      --hover-fill-color: #174EA6;\n",
              "      --disabled-fill-color: #AAA;\n",
              "      --disabled-bg-color: #DDD;\n",
              "  }\n",
              "\n",
              "  [theme=dark] .colab-df-quickchart {\n",
              "      --bg-color: #3B4455;\n",
              "      --fill-color: #D2E3FC;\n",
              "      --hover-bg-color: #434B5C;\n",
              "      --hover-fill-color: #FFFFFF;\n",
              "      --disabled-bg-color: #3B4455;\n",
              "      --disabled-fill-color: #666;\n",
              "  }\n",
              "\n",
              "  .colab-df-quickchart {\n",
              "    background-color: var(--bg-color);\n",
              "    border: none;\n",
              "    border-radius: 50%;\n",
              "    cursor: pointer;\n",
              "    display: none;\n",
              "    fill: var(--fill-color);\n",
              "    height: 32px;\n",
              "    padding: 0;\n",
              "    width: 32px;\n",
              "  }\n",
              "\n",
              "  .colab-df-quickchart:hover {\n",
              "    background-color: var(--hover-bg-color);\n",
              "    box-shadow: 0 1px 2px rgba(60, 64, 67, 0.3), 0 1px 3px 1px rgba(60, 64, 67, 0.15);\n",
              "    fill: var(--button-hover-fill-color);\n",
              "  }\n",
              "\n",
              "  .colab-df-quickchart-complete:disabled,\n",
              "  .colab-df-quickchart-complete:disabled:hover {\n",
              "    background-color: var(--disabled-bg-color);\n",
              "    fill: var(--disabled-fill-color);\n",
              "    box-shadow: none;\n",
              "  }\n",
              "\n",
              "  .colab-df-spinner {\n",
              "    border: 2px solid var(--fill-color);\n",
              "    border-color: transparent;\n",
              "    border-bottom-color: var(--fill-color);\n",
              "    animation:\n",
              "      spin 1s steps(1) infinite;\n",
              "  }\n",
              "\n",
              "  @keyframes spin {\n",
              "    0% {\n",
              "      border-color: transparent;\n",
              "      border-bottom-color: var(--fill-color);\n",
              "      border-left-color: var(--fill-color);\n",
              "    }\n",
              "    20% {\n",
              "      border-color: transparent;\n",
              "      border-left-color: var(--fill-color);\n",
              "      border-top-color: var(--fill-color);\n",
              "    }\n",
              "    30% {\n",
              "      border-color: transparent;\n",
              "      border-left-color: var(--fill-color);\n",
              "      border-top-color: var(--fill-color);\n",
              "      border-right-color: var(--fill-color);\n",
              "    }\n",
              "    40% {\n",
              "      border-color: transparent;\n",
              "      border-right-color: var(--fill-color);\n",
              "      border-top-color: var(--fill-color);\n",
              "    }\n",
              "    60% {\n",
              "      border-color: transparent;\n",
              "      border-right-color: var(--fill-color);\n",
              "    }\n",
              "    80% {\n",
              "      border-color: transparent;\n",
              "      border-right-color: var(--fill-color);\n",
              "      border-bottom-color: var(--fill-color);\n",
              "    }\n",
              "    90% {\n",
              "      border-color: transparent;\n",
              "      border-bottom-color: var(--fill-color);\n",
              "    }\n",
              "  }\n",
              "</style>\n",
              "\n",
              "  <script>\n",
              "    async function quickchart(key) {\n",
              "      const quickchartButtonEl =\n",
              "        document.querySelector('#' + key + ' button');\n",
              "      quickchartButtonEl.disabled = true;  // To prevent multiple clicks.\n",
              "      quickchartButtonEl.classList.add('colab-df-spinner');\n",
              "      try {\n",
              "        const charts = await google.colab.kernel.invokeFunction(\n",
              "            'suggestCharts', [key], {});\n",
              "      } catch (error) {\n",
              "        console.error('Error during call to suggestCharts:', error);\n",
              "      }\n",
              "      quickchartButtonEl.classList.remove('colab-df-spinner');\n",
              "      quickchartButtonEl.classList.add('colab-df-quickchart-complete');\n",
              "    }\n",
              "    (() => {\n",
              "      let quickchartButtonEl =\n",
              "        document.querySelector('#df-b0aa1a0f-ce27-4293-9dfc-78ddb5f78de7 button');\n",
              "      quickchartButtonEl.style.display =\n",
              "        google.colab.kernel.accessAllowed ? 'block' : 'none';\n",
              "    })();\n",
              "  </script>\n",
              "</div>\n",
              "\n",
              "    </div>\n",
              "  </div>\n"
            ]
          },
          "metadata": {},
          "execution_count": 7
        }
      ]
    },
    {
      "cell_type": "markdown",
      "source": [
        "# New Section"
      ],
      "metadata": {
        "id": "G675sCt27peb"
      }
    }
  ]
}