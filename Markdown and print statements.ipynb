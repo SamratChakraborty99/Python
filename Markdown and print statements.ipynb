{
 "cells": [
  {
   "cell_type": "markdown",
   "id": "ec797a2f",
   "metadata": {},
   "source": [
    "# This code will teach you the basics of python from the scratch like you are a child \n",
    "\n",
    "\n"
   ]
  },
  {
   "cell_type": "markdown",
   "id": "0cf1001d",
   "metadata": {},
   "source": [
    "# Ways of using Markdown This the level 1 with highest \n",
    "# For level 1 u write # --write text--, there has to be space after hatch\n",
    "\n",
    "## ## level 2 u write the command like this two hashes and space and wrtie the sentence, same for the rest as well\n",
    "### ### level 3\n",
    "#### #### level 4\n",
    "##### ##### level 5\n",
    "###### ###### level 6\n",
    "####### there is no level 7\n",
    "\n",
    "\n"
   ]
  },
  {
   "cell_type": "code",
   "execution_count": 5,
   "id": "aa56a438",
   "metadata": {},
   "outputs": [
    {
     "name": "stdout",
     "output_type": "stream",
     "text": [
      "Lets begin!\n"
     ]
    }
   ],
   "source": [
    "print(\"Lets begin!\")"
   ]
  },
  {
   "cell_type": "markdown",
   "id": "ef78db78",
   "metadata": {},
   "source": [
    "#### Adding two numbers"
   ]
  },
  {
   "cell_type": "code",
   "execution_count": 6,
   "id": "09d50b18",
   "metadata": {},
   "outputs": [
    {
     "name": "stdout",
     "output_type": "stream",
     "text": [
      " the sum of the number 3 and 5  is:  8\n"
     ]
    }
   ],
   "source": [
    "a=3\n",
    "b=5\n",
    "sum=a+b\n",
    "print(\" the sum of the number\",a,\"and\",b,\" is: \",sum)"
   ]
  },
  {
   "cell_type": "markdown",
   "id": "e043dbbd",
   "metadata": {},
   "source": [
    "#### You can also use f strings for the printing purpose"
   ]
  },
  {
   "cell_type": "code",
   "execution_count": 13,
   "id": "0564f295",
   "metadata": {},
   "outputs": [
    {
     "name": "stdout",
     "output_type": "stream",
     "text": [
      "The sum of the numbers 3 and 5 is 8\n"
     ]
    }
   ],
   "source": [
    "print(f'The sum of the numbers {a} and {b} is {sum}')"
   ]
  },
  {
   "cell_type": "markdown",
   "id": "b9af02bf",
   "metadata": {},
   "source": [
    "#### Another way of printing is using format function"
   ]
  },
  {
   "cell_type": "code",
   "execution_count": 7,
   "id": "7e67302b",
   "metadata": {},
   "outputs": [
    {
     "name": "stdout",
     "output_type": "stream",
     "text": [
      "The sum of the numbers 3 and 5 is 8\n"
     ]
    }
   ],
   "source": [
    "print(\"The sum of the numbers {} and {} is {}\".format(a,b,sum))"
   ]
  },
  {
   "cell_type": "markdown",
   "id": "edc8f0e6",
   "metadata": {},
   "source": [
    "#### You can you also produce a custom seperator for the print statement"
   ]
  },
  {
   "cell_type": "code",
   "execution_count": null,
   "id": "34b18526",
   "metadata": {},
   "outputs": [
    {
     "name": "stdout",
     "output_type": "stream",
     "text": [
      "My name is Sam, I am x years old.\n"
     ]
    }
   ],
   "source": [
    "print(\"My name is Sam\",\"I am x years old\", sep=\", \", end=\".\\n\")"
   ]
  },
  {
   "cell_type": "markdown",
   "id": "910dd8f2",
   "metadata": {},
   "source": [
    "#### You can also use this to print raw strings"
   ]
  },
  {
   "cell_type": "code",
   "execution_count": null,
   "metadata": {},
   "outputs": [
    {
     "name": "stdout",
     "output_type": "stream",
     "text": [
      "C:\\Users\\Name\\Documents\n"
     ]
    }
   ],
   "source": [
    "print(r\"C:\\Users\\Name\\Documents\")"
   ]
  },
  {
   "cell_type": "markdown",
   "id": "e2d7ced0",
   "metadata": {},
   "source": [
    "#### You can also use in line tab and next line special charectors to denote the functionality."
   ]
  },
  {
   "cell_type": "code",
   "execution_count": 18,
   "id": "b2a101dd",
   "metadata": {},
   "outputs": [
    {
     "name": "stdout",
     "output_type": "stream",
     "text": [
      "Name: \tSam\n",
      "Hello\n",
      "World\n"
     ]
    }
   ],
   "source": [
    "print(\"Name: \\tSam\")\n",
    "print(\"Hello\\nWorld\")"
   ]
  },
  {
   "cell_type": "markdown",
   "id": "f4ee2f9f",
   "metadata": {},
   "source": [
    "#### That is it for this file. See you all in the next file."
   ]
  },
  {
   "cell_type": "markdown",
   "id": "5757cd60",
   "metadata": {},
   "source": []
  }
 ],
 "metadata": {
  "kernelspec": {
   "display_name": "Python 3",
   "language": "python",
   "name": "python3"
  },
  "language_info": {
   "codemirror_mode": {
    "name": "ipython",
    "version": 3
   },
   "file_extension": ".py",
   "mimetype": "text/x-python",
   "name": "python",
   "nbconvert_exporter": "python",
   "pygments_lexer": "ipython3",
   "version": "3.12.10"
  }
 },
 "nbformat": 4,
 "nbformat_minor": 5
}
